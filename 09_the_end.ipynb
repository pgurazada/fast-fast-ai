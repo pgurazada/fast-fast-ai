{
 "cells": [
  {
   "cell_type": "markdown",
   "metadata": {},
   "source": [
    "# The End\n",
    "\n",
    "![https://twitter.com/karpathy/status/1013244313327681536](img/common_mistakes.png)\n",
    "https://twitter.com/karpathy/status/1013244313327681536\n",
    "\n",
    "\n",
    "# PyTorch Outlook\n",
    "- [0.4 \"just\" released](https://pytorch.org/2018/04/22/0_4_0-migration-guide.html)\n",
    "  - `Tensors` and `Variables` have merged\n",
    "  - Support for 0-dimensional (scalar) Tensors\n",
    "  - Deprecation of the `volatile` flag\n",
    "  \n",
    "- [The road to 1.0: production ready PyTorch](https://pytorch.org/2018/05/02/road-to-1.0.html)\n",
    "  - `torch.jit`\n",
    "  - optimize for mobile\n",
    "  - quantized inference (such as 8-bit inference)\n",
    "  - [caffe2 already merged into pytorch repo](https://github.com/pytorch/pytorch/tree/master/caffe2)\n",
    "  - ONNX - Open Neural Network Exchange"
   ]
  },
  {
   "cell_type": "code",
   "execution_count": null,
   "metadata": {},
   "outputs": [],
   "source": [
    "import torch.jit"
   ]
  },
  {
   "cell_type": "markdown",
   "metadata": {},
   "source": [
    "```python\n",
    "from torch.jit import script\n",
    "\n",
    "@script\n",
    "def rnn_loop(x):\n",
    "    hidden = None\n",
    "    for x_t in x.split(1):\n",
    "        x, hidden = model(x, hidden)\n",
    "    return x\n",
    "```"
   ]
  }
 ],
 "metadata": {
  "kernelspec": {
   "display_name": "Python 3",
   "language": "python",
   "name": "python3"
  },
  "language_info": {
   "codemirror_mode": {
    "name": "ipython",
    "version": 3
   },
   "file_extension": ".py",
   "mimetype": "text/x-python",
   "name": "python",
   "nbconvert_exporter": "python",
   "pygments_lexer": "ipython3",
   "version": "3.6.5"
  }
 },
 "nbformat": 4,
 "nbformat_minor": 2
}
