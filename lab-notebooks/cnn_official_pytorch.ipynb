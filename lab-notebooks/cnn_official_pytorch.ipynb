{
  "nbformat": 4,
  "nbformat_minor": 0,
  "metadata": {
    "colab": {
      "name": "cnn-official-pytorch.ipynb",
      "version": "0.3.2",
      "provenance": [],
      "private_outputs": true,
      "collapsed_sections": [],
      "include_colab_link": true
    },
    "kernelspec": {
      "name": "python3",
      "display_name": "Python 3"
    },
    "accelerator": "GPU"
  },
  "cells": [
    {
      "cell_type": "markdown",
      "metadata": {
        "id": "view-in-github",
        "colab_type": "text"
      },
      "source": [
        "<a href=\"https://colab.research.google.com/github/pgurazada/fast-fast-ai/blob/master/cnn_official_pytorch.ipynb\" target=\"_parent\"><img src=\"https://colab.research.google.com/assets/colab-badge.svg\" alt=\"Open In Colab\"/></a>"
      ]
    },
    {
      "metadata": {
        "id": "5Wh22juhGqqO",
        "colab_type": "code",
        "colab": {}
      },
      "cell_type": "code",
      "source": [
        "import torch\n",
        "import torch.nn as nn\n",
        "import torch.nn.functional as F"
      ],
      "execution_count": 0,
      "outputs": []
    },
    {
      "metadata": {
        "id": "Ywp2xWWuG-iB",
        "colab_type": "code",
        "colab": {}
      },
      "cell_type": "code",
      "source": [
        "class Net(nn.Module):\n",
        "  \n",
        "  def __init__(self):\n",
        "    \n",
        "    super(Net, self).__init__()\n",
        "    # 1 input image channel, 6 output channels, 5x5 square convolution kernel\n",
        "    self.conv1 = nn.Conv2d(1, 6, 5)\n",
        "    self.conv2 = nn.Conv2d(6, 16, 5)\n",
        "    self.fc1 = nn.Linear(16*5*5, 120)\n",
        "    self.fc2 = nn.Linear(120, 84)\n",
        "    self.fc3 = nn.Linear(84, 10)\n",
        "    \n",
        "  def forward(self, x):\n",
        "    \n",
        "    x = F.max_pool2d(F.relu(self.conv1(x)), (2, 2))\n",
        "    x = F.max_pool2d(F.relu(self.conv2(x)), 2)\n",
        "    x = x.view(-1, self.num_flat_features(x))\n",
        "    x = F.relu(self.fc1(x))\n",
        "    x = F.relu(self.fc2(x))\n",
        "    x = self.fc3(x)\n",
        "    \n",
        "    return x\n",
        "  \n",
        "  def num_flat_features(self, x):\n",
        "    size = x.size()[1:]\n",
        "\n",
        "    num_features = 1\n",
        "    \n",
        "    for s in size:\n",
        "      num_features *= s\n",
        "    \n",
        "    return num_features"
      ],
      "execution_count": 0,
      "outputs": []
    },
    {
      "metadata": {
        "id": "M9mMoSDIIOB0",
        "colab_type": "code",
        "colab": {}
      },
      "cell_type": "code",
      "source": [
        "net = Net()"
      ],
      "execution_count": 0,
      "outputs": []
    },
    {
      "metadata": {
        "id": "sq_oXq1VIPjK",
        "colab_type": "code",
        "colab": {}
      },
      "cell_type": "code",
      "source": [
        "print(net)"
      ],
      "execution_count": 0,
      "outputs": []
    },
    {
      "metadata": {
        "id": "vJN8nI4pN5L7",
        "colab_type": "text"
      },
      "cell_type": "markdown",
      "source": [
        "An alternative and probably more Keras like implementation is below"
      ]
    },
    {
      "metadata": {
        "id": "4Ip30SasIbbE",
        "colab_type": "code",
        "colab": {}
      },
      "cell_type": "code",
      "source": [
        "class ConvNet(nn.Module):\n",
        "  \n",
        "  def __init__(self):\n",
        "    \n",
        "    super(ConvNet, self).__init__()\n",
        "    \n",
        "    self.conv1 = nn.Sequential(nn.Conv2d(1, 6, 5),\n",
        "                               nn.MaxPool2d((2, 2)))\n",
        "    \n",
        "    self.conv2 = nn.Sequential(nn.Conv2d(6, 16, 5),\n",
        "                               nn.MaxPool2d((2, 2)))\n",
        "    \n",
        "    self.fc1 = nn.Sequential(nn.Linear(16*5*5, 120),\n",
        "                             nn.ReLU())\n",
        "    \n",
        "    self.fc2 = nn.Sequential(nn.Linear(120, 84),\n",
        "                             nn.ReLU())\n",
        "    \n",
        "    self.fc3 = nn.Sequential(nn.Linear(84, 10), \n",
        "                             nn.Sigmoid())\n",
        "    \n",
        "  def forward(self, x):\n",
        "    \n",
        "    out = self.conv1(x)\n",
        "    out = self.conv2(out)\n",
        "    out = out.view(-1, self.num_flat_features(x))\n",
        "    out = self.fc1(out)\n",
        "    out = self.fc2(out)\n",
        "    out = self.fc3(out)\n",
        "    \n",
        "    return out\n",
        "  \n",
        "  def num_flat_features(self, x):\n",
        "    size = x.size()[1:]\n",
        "\n",
        "    num_features = 1\n",
        "    \n",
        "    for s in size:\n",
        "      num_features *= s\n",
        "    \n",
        "    return num_features"
      ],
      "execution_count": 0,
      "outputs": []
    },
    {
      "metadata": {
        "id": "s9UWLYiZNqBj",
        "colab_type": "code",
        "colab": {}
      },
      "cell_type": "code",
      "source": [
        "conv_net = ConvNet()"
      ],
      "execution_count": 0,
      "outputs": []
    },
    {
      "metadata": {
        "id": "XvUyK-2nNxjQ",
        "colab_type": "code",
        "colab": {}
      },
      "cell_type": "code",
      "source": [
        "print(conv_net)"
      ],
      "execution_count": 0,
      "outputs": []
    },
    {
      "metadata": {
        "id": "mvV6nDUgNy6G",
        "colab_type": "code",
        "colab": {}
      },
      "cell_type": "code",
      "source": [
        ""
      ],
      "execution_count": 0,
      "outputs": []
    }
  ]
}