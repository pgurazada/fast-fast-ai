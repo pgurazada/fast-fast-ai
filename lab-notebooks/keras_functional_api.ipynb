{
  "nbformat": 4,
  "nbformat_minor": 0,
  "metadata": {
    "colab": {
      "name": "keras-functional-api.ipynb",
      "version": "0.3.2",
      "provenance": [],
      "private_outputs": true,
      "collapsed_sections": [],
      "include_colab_link": true
    },
    "kernelspec": {
      "name": "python3",
      "display_name": "Python 3"
    },
    "accelerator": "TPU"
  },
  "cells": [
    {
      "cell_type": "markdown",
      "metadata": {
        "id": "view-in-github",
        "colab_type": "text"
      },
      "source": [
        "<a href=\"https://colab.research.google.com/github/pgurazada/fast-fast-ai/blob/master/keras_functional_api.ipynb\" target=\"_parent\"><img src=\"https://colab.research.google.com/assets/colab-badge.svg\" alt=\"Open In Colab\"/></a>"
      ]
    },
    {
      "metadata": {
        "id": "PalFVnUFU3hA",
        "colab_type": "text"
      },
      "cell_type": "markdown",
      "source": [
        "Replicated from \n",
        "\n",
        "- https://machinelearningmastery.com/keras-functional-api-deep-learning/\n",
        "- https://medium.com/tensorflow/predicting-the-price-of-wine-with-the-keras-functional-api-and-tensorflow-a95d1c2c1b03"
      ]
    },
    {
      "metadata": {
        "id": "4IX0AgD8D2Np",
        "colab_type": "code",
        "colab": {}
      },
      "cell_type": "code",
      "source": [
        "from keras.utils import plot_model"
      ],
      "execution_count": 0,
      "outputs": []
    },
    {
      "metadata": {
        "id": "Ak0WJ8kCCQ6A",
        "colab_type": "code",
        "colab": {}
      },
      "cell_type": "code",
      "source": [
        "from keras.models import Model\n",
        "\n",
        "from keras.layers import Input, Dense, Flatten\n",
        "from keras.layers import Conv2D, MaxPooling2D\n",
        "from keras.layers import LSTM\n",
        "from keras.layers import Embedding\n",
        "from keras.layers import TimeDistributed\n",
        "\n",
        "from keras.layers import Concatenate"
      ],
      "execution_count": 0,
      "outputs": []
    },
    {
      "metadata": {
        "id": "sfUpZLX0DvTh",
        "colab_type": "text"
      },
      "cell_type": "markdown",
      "source": [
        "# Multilayer Perceptron"
      ]
    },
    {
      "metadata": {
        "id": "SQG7JK_2EBao",
        "colab_type": "code",
        "colab": {}
      },
      "cell_type": "code",
      "source": [
        "input_layer = Input(shape=(10, ))\n",
        "\n",
        "hidden1 = Dense(10, activation='relu')(input_layer)\n",
        "hidden2 = Dense(20, activation='relu')(hidden1)\n",
        "hidden3 = Dense(10, activation='relu')(hidden2)\n",
        "\n",
        "output = Dense(1, activation='sigmoid')(hidden3)\n",
        "\n",
        "model = Model(inputs=input_layer, outputs=output)"
      ],
      "execution_count": 0,
      "outputs": []
    },
    {
      "metadata": {
        "id": "TPlwjg2HJczq",
        "colab_type": "code",
        "colab": {}
      },
      "cell_type": "code",
      "source": [
        "model.summary()"
      ],
      "execution_count": 0,
      "outputs": []
    },
    {
      "metadata": {
        "id": "sN_PBI4kERJS",
        "colab_type": "code",
        "colab": {}
      },
      "cell_type": "code",
      "source": [
        "plot_model(model, to_file='mlp-model.png')"
      ],
      "execution_count": 0,
      "outputs": []
    },
    {
      "metadata": {
        "id": "o1o54jsKFbvQ",
        "colab_type": "text"
      },
      "cell_type": "markdown",
      "source": [
        "# Convolutional Neural Network"
      ]
    },
    {
      "metadata": {
        "id": "oQ9ZwaaOFfOf",
        "colab_type": "code",
        "colab": {}
      },
      "cell_type": "code",
      "source": [
        "input_layer = Input(shape=(64,64,1))\n",
        "\n",
        "conv1 = Conv2D(32, kernel_size=4, activation='relu')(input_layer)\n",
        "pool1 = MaxPooling2D(pool_size=(2, 2))(conv1)\n",
        "conv2 = Conv2D(16, kernel_size=4, activation='relu')(pool1)\n",
        "pool2 = MaxPooling2D(pool_size=(2, 2))(conv2)\n",
        "\n",
        "flat = Flatten()(pool2)\n",
        "\n",
        "hidden1 = Dense(10, activation='relu')(flat)\n",
        "\n",
        "output = Dense(1, activation='sigmoid')(hidden1)\n",
        "\n",
        "model = Model(inputs=input_layer, outputs=output)"
      ],
      "execution_count": 0,
      "outputs": []
    },
    {
      "metadata": {
        "id": "Hqz0YysuJfd1",
        "colab_type": "code",
        "colab": {}
      },
      "cell_type": "code",
      "source": [
        "model.summary()"
      ],
      "execution_count": 0,
      "outputs": []
    },
    {
      "metadata": {
        "id": "n9VFylPWHS6s",
        "colab_type": "code",
        "colab": {}
      },
      "cell_type": "code",
      "source": [
        "plot_model(model, to_file='cnn-model.png')"
      ],
      "execution_count": 0,
      "outputs": []
    },
    {
      "metadata": {
        "id": "dL-XYXQVJHla",
        "colab_type": "text"
      },
      "cell_type": "markdown",
      "source": [
        "# Recurrent Neural Network"
      ]
    },
    {
      "metadata": {
        "id": "CkaNT2WpHfEU",
        "colab_type": "code",
        "colab": {}
      },
      "cell_type": "code",
      "source": [
        "input_layer = Input(shape=(100,1))\n",
        "\n",
        "hidden1 = LSTM(10)(input_layer)\n",
        "hidden2 = Dense(10, activation='relu')(hidden1)\n",
        "\n",
        "output = Dense(1, activation='sigmoid')(hidden2)\n",
        "\n",
        "model = Model(inputs=input_layer, outputs=output)"
      ],
      "execution_count": 0,
      "outputs": []
    },
    {
      "metadata": {
        "id": "Dt5j92lZLUtu",
        "colab_type": "code",
        "colab": {}
      },
      "cell_type": "code",
      "source": [
        "model.summary()"
      ],
      "execution_count": 0,
      "outputs": []
    },
    {
      "metadata": {
        "id": "pjQBmp3ILX0d",
        "colab_type": "code",
        "colab": {}
      },
      "cell_type": "code",
      "source": [
        "plot_model(model, to_file='rnn-model.png')"
      ],
      "execution_count": 0,
      "outputs": []
    },
    {
      "metadata": {
        "id": "mxrSUUDxOFHh",
        "colab_type": "text"
      },
      "cell_type": "markdown",
      "source": [
        "# Shared input model"
      ]
    },
    {
      "metadata": {
        "id": "XpQmeZ4QM9yz",
        "colab_type": "code",
        "colab": {}
      },
      "cell_type": "code",
      "source": [
        "# input layer\n",
        "input_layer = Input(shape=(64,64,1))\n",
        "\n",
        "# first feature extractor\n",
        "conv1 = Conv2D(32, kernel_size=4, activation='relu')(input_layer)\n",
        "pool1 = MaxPooling2D(pool_size=(2, 2))(conv1)\n",
        "flat1 = Flatten()(pool1)\n",
        "\n",
        "# second feature extractor\n",
        "conv2 = Conv2D(16, kernel_size=8, activation='relu')(input_layer)\n",
        "pool2 = MaxPooling2D(pool_size=(2, 2))(conv2)\n",
        "flat2 = Flatten()(pool2)\n",
        "\n",
        "# merge feature extractors\n",
        "merge = Concatenate()([flat1, flat2])\n",
        "\n",
        "# interpretation layer\n",
        "hidden1 = Dense(10, activation='relu')(merge)\n",
        "\n",
        "# prediction output\n",
        "output = Dense(1, activation='sigmoid')(hidden1)\n",
        "\n",
        "model = Model(inputs=input_layer, outputs=output)"
      ],
      "execution_count": 0,
      "outputs": []
    },
    {
      "metadata": {
        "id": "YWsAKmG5Ov-K",
        "colab_type": "code",
        "colab": {}
      },
      "cell_type": "code",
      "source": [
        "model.summary()"
      ],
      "execution_count": 0,
      "outputs": []
    },
    {
      "metadata": {
        "id": "k0olGGN9PEsh",
        "colab_type": "code",
        "colab": {}
      },
      "cell_type": "code",
      "source": [
        "plot_model(model, 'shared-input-model.png')"
      ],
      "execution_count": 0,
      "outputs": []
    },
    {
      "metadata": {
        "id": "UOtNOxbiPqUy",
        "colab_type": "text"
      },
      "cell_type": "markdown",
      "source": [
        "# Shared feature extraction model"
      ]
    },
    {
      "metadata": {
        "id": "R_Tme6g2Pe2b",
        "colab_type": "code",
        "colab": {}
      },
      "cell_type": "code",
      "source": [
        "# define input\n",
        "input_layer = Input(shape=(100,1))\n",
        "\n",
        "# feature extraction\n",
        "extract1 = LSTM(10)(input_layer)\n",
        "\n",
        "# first interpretation model\n",
        "interp1 = Dense(10, activation='relu')(extract1)\n",
        "\n",
        "# second interpretation model\n",
        "interp11 = Dense(10, activation='relu')(extract1)\n",
        "interp12 = Dense(20, activation='relu')(interp11)\n",
        "interp13 = Dense(10, activation='relu')(interp12)\n",
        "\n",
        "# merge interpretation\n",
        "merge = Concatenate()([interp1, interp13])\n",
        "\n",
        "# output\n",
        "output = Dense(1, activation='sigmoid')(merge)\n",
        "\n",
        "model = Model(inputs=input_layer, outputs=output)"
      ],
      "execution_count": 0,
      "outputs": []
    },
    {
      "metadata": {
        "id": "e8QI5ZuJQQnl",
        "colab_type": "code",
        "colab": {}
      },
      "cell_type": "code",
      "source": [
        "model.summary()"
      ],
      "execution_count": 0,
      "outputs": []
    },
    {
      "metadata": {
        "id": "4gJX5gZZQT-a",
        "colab_type": "code",
        "colab": {}
      },
      "cell_type": "code",
      "source": [
        "plot_model(model, to_file='shared-feature-extractors.png')"
      ],
      "execution_count": 0,
      "outputs": []
    },
    {
      "metadata": {
        "id": "R3rGmUOSTCw_",
        "colab_type": "text"
      },
      "cell_type": "markdown",
      "source": [
        "# Multiple Inputs Model"
      ]
    },
    {
      "metadata": {
        "id": "bOOudiJmQgrv",
        "colab_type": "code",
        "colab": {}
      },
      "cell_type": "code",
      "source": [
        "# first input model\n",
        "input1 = Input(shape=(64, 64, 1)) # only one color channel\n",
        "conv11 = Conv2D(32, kernel_size=4, activation='relu')(input1)\n",
        "pool11 = MaxPooling2D(pool_size=(2, 2))(conv11)\n",
        "conv12 = Conv2D(16, kernel_size=4, activation='relu')(pool11)\n",
        "pool12 = MaxPooling2D(pool_size=(2, 2))(conv12)\n",
        "flat1 = Flatten()(pool12)\n",
        "\n",
        "# second input model\n",
        "input2 = Input(shape=(32, 32, 3)) # three color channels\n",
        "conv21 = Conv2D(32, kernel_size=4, activation='relu')(input2)\n",
        "pool21 = MaxPooling2D(pool_size=(2, 2))(conv21)\n",
        "conv22 = Conv2D(16, kernel_size=4, activation='relu')(pool21)\n",
        "pool22 = MaxPooling2D(pool_size=(2, 2))(conv22)\n",
        "flat2 = Flatten()(pool22)\n",
        "\n",
        "# merge input models\n",
        "merge = Concatenate()([flat1, flat2])\n",
        "\n",
        "# interpretation model\n",
        "hidden1 = Dense(10, activation='relu')(merge)\n",
        "hidden2 = Dense(10, activation='relu')(hidden1)\n",
        "\n",
        "output = Dense(1, activation='sigmoid')(hidden2)\n",
        "\n",
        "model = Model(inputs=[input1, input2], outputs=output)"
      ],
      "execution_count": 0,
      "outputs": []
    },
    {
      "metadata": {
        "id": "LpssWZb-T-0Y",
        "colab_type": "code",
        "colab": {}
      },
      "cell_type": "code",
      "source": [
        "model.summary()"
      ],
      "execution_count": 0,
      "outputs": []
    },
    {
      "metadata": {
        "id": "zZF2zmhzUAC1",
        "colab_type": "code",
        "colab": {}
      },
      "cell_type": "code",
      "source": [
        "plot_model(model, to_file='multi-input-model.png')"
      ],
      "execution_count": 0,
      "outputs": []
    },
    {
      "metadata": {
        "id": "KjqDY9UJUO7W",
        "colab_type": "text"
      },
      "cell_type": "markdown",
      "source": [
        "# Multiple outputs model"
      ]
    },
    {
      "metadata": {
        "id": "Ww3bg0dJUF3l",
        "colab_type": "code",
        "colab": {}
      },
      "cell_type": "code",
      "source": [
        "# input layer\n",
        "input_layer = Input(shape=(100,1))\n",
        "\n",
        "# feature extraction\n",
        "extract = LSTM(10, return_sequences=True)(input_layer)\n",
        "\n",
        "# classification output\n",
        "class11 = LSTM(10)(extract)\n",
        "class12 = Dense(10, activation='relu')(class11)\n",
        "output1 = Dense(1, activation='sigmoid')(class12)\n",
        "\n",
        "# sequence output\n",
        "output2 = TimeDistributed(Dense(1, activation='linear'))(extract)\n",
        "\n",
        "# output\n",
        "model = Model(inputs=input_layer, outputs=[output1, output2])"
      ],
      "execution_count": 0,
      "outputs": []
    },
    {
      "metadata": {
        "id": "5pUYdE9SUmwc",
        "colab_type": "code",
        "colab": {}
      },
      "cell_type": "code",
      "source": [
        "model.summary()"
      ],
      "execution_count": 0,
      "outputs": []
    },
    {
      "metadata": {
        "id": "6E8hceQ4Uql3",
        "colab_type": "code",
        "colab": {}
      },
      "cell_type": "code",
      "source": [
        "plot_model(model, to_file='multi-output-model.png')"
      ],
      "execution_count": 0,
      "outputs": []
    },
    {
      "metadata": {
        "id": "jARJzf5EWrPT",
        "colab_type": "text"
      },
      "cell_type": "markdown",
      "source": [
        "Best practises:\n",
        "\n",
        "- Consistent Variable Names. Use the same variable name for the input (visible) and output layers (output) and perhaps even the hidden layers (hidden1, hidden2). It will help to connect things together correctly.\n",
        "- Review Layer Summary. Always print the model summary and review the layer outputs to ensure that the model was connected together as you expected.\n",
        "- Review Graph Plots. Always create a plot of the model graph and review it to ensure that everything was put together as you intended.\n",
        "- Name the layers. You can assign names to layers that are used when reviewing summaries and plots of the model graph. For example: Dense(1, name=’hidden1′).\n",
        "- Separate Submodels. Consider separating out the development of submodels and combine the submodels together at the end."
      ]
    },
    {
      "metadata": {
        "id": "2kWmSziGqQkn",
        "colab_type": "text"
      },
      "cell_type": "markdown",
      "source": [
        "# Worked out example"
      ]
    },
    {
      "metadata": {
        "id": "nyQUMw5Eqdma",
        "colab_type": "code",
        "colab": {}
      },
      "cell_type": "code",
      "source": [
        "!wget -q https://storage.googleapis.com/sara-cloud-ml/wine_data.csv"
      ],
      "execution_count": 0,
      "outputs": []
    },
    {
      "metadata": {
        "id": "m2r2VTvMUw7U",
        "colab_type": "code",
        "colab": {}
      },
      "cell_type": "code",
      "source": [
        "import os\n",
        "import numpy as np\n",
        "import pandas as pd"
      ],
      "execution_count": 0,
      "outputs": []
    },
    {
      "metadata": {
        "id": "TM6CGWgEqYhj",
        "colab_type": "code",
        "colab": {}
      },
      "cell_type": "code",
      "source": [
        "from sklearn.preprocessing import LabelEncoder"
      ],
      "execution_count": 0,
      "outputs": []
    },
    {
      "metadata": {
        "id": "A0QZ5RzXtBKD",
        "colab_type": "code",
        "colab": {}
      },
      "cell_type": "code",
      "source": [
        "from keras.preprocessing.text import Tokenizer\n",
        "from keras.preprocessing.sequence import pad_sequences\n",
        "from keras.utils import to_categorical"
      ],
      "execution_count": 0,
      "outputs": []
    },
    {
      "metadata": {
        "id": "x7HkgBeyqaSy",
        "colab_type": "code",
        "colab": {}
      },
      "cell_type": "code",
      "source": [
        "data_df = pd.read_csv(\"wine_data.csv\").dropna()"
      ],
      "execution_count": 0,
      "outputs": []
    },
    {
      "metadata": {
        "id": "Cjal_ymRLgTm",
        "colab_type": "code",
        "colab": {}
      },
      "cell_type": "code",
      "source": [
        "data_df.isnull().any()"
      ],
      "execution_count": 0,
      "outputs": []
    },
    {
      "metadata": {
        "id": "ZE-GqxBJsRgZ",
        "colab_type": "code",
        "colab": {}
      },
      "cell_type": "code",
      "source": [
        "data_df.head()"
      ],
      "execution_count": 0,
      "outputs": []
    },
    {
      "metadata": {
        "id": "-hpDdNpDrojK",
        "colab_type": "code",
        "colab": {}
      },
      "cell_type": "code",
      "source": [
        "train_size = int(len(data_df) * .8)\n",
        "\n",
        "# Train features\n",
        "description_train = data_df['description'][:train_size]\n",
        "variety_train = data_df['variety'][:train_size]\n",
        "\n",
        "# Train labels\n",
        "labels_train = data_df['price'][:train_size]"
      ],
      "execution_count": 0,
      "outputs": []
    },
    {
      "metadata": {
        "id": "LymOc29ztT2q",
        "colab_type": "code",
        "colab": {}
      },
      "cell_type": "code",
      "source": [
        "vocab_size = 12000\n",
        "tokenize = Tokenizer(num_words=vocab_size, char_level=False)"
      ],
      "execution_count": 0,
      "outputs": []
    },
    {
      "metadata": {
        "id": "h2ID9219saSr",
        "colab_type": "code",
        "colab": {}
      },
      "cell_type": "code",
      "source": [
        "tokenize.fit_on_texts(description_train) # only fit on train"
      ],
      "execution_count": 0,
      "outputs": []
    },
    {
      "metadata": {
        "id": "aBEOAJcvteMm",
        "colab_type": "code",
        "colab": {}
      },
      "cell_type": "code",
      "source": [
        "encoder = LabelEncoder()\n",
        "variety_train = encoder.fit_transform(variety_train)"
      ],
      "execution_count": 0,
      "outputs": []
    },
    {
      "metadata": {
        "id": "d82iufw2uGdY",
        "colab_type": "code",
        "colab": {}
      },
      "cell_type": "code",
      "source": [
        "num_classes = np.max(variety_train) + 1"
      ],
      "execution_count": 0,
      "outputs": []
    },
    {
      "metadata": {
        "id": "UhHqixPzuSn1",
        "colab_type": "code",
        "colab": {}
      },
      "cell_type": "code",
      "source": [
        "variety_train = to_categorical(variety_train, num_classes)"
      ],
      "execution_count": 0,
      "outputs": []
    },
    {
      "metadata": {
        "id": "E4Romc8fA8e3",
        "colab_type": "code",
        "colab": {}
      },
      "cell_type": "code",
      "source": [
        "variety_train.shape"
      ],
      "execution_count": 0,
      "outputs": []
    },
    {
      "metadata": {
        "id": "o5GjONVkCbDU",
        "colab_type": "code",
        "colab": {}
      },
      "cell_type": "code",
      "source": [
        "description_bow_train = tokenize.texts_to_matrix(description_train)"
      ],
      "execution_count": 0,
      "outputs": []
    },
    {
      "metadata": {
        "id": "HihcwtKFCc5v",
        "colab_type": "code",
        "colab": {}
      },
      "cell_type": "code",
      "source": [
        "description_bow_train.shape"
      ],
      "execution_count": 0,
      "outputs": []
    },
    {
      "metadata": {
        "id": "dZgG8wtADB8P",
        "colab_type": "text"
      },
      "cell_type": "markdown",
      "source": [
        "## 1. Wide model"
      ]
    },
    {
      "metadata": {
        "id": "a4ED6HJcucTd",
        "colab_type": "code",
        "colab": {}
      },
      "cell_type": "code",
      "source": [
        "bow_inputs = Input(shape=(vocab_size,))\n",
        "variety_inputs = Input(shape=(num_classes,))\n",
        "\n",
        "merged_layer = Concatenate()([bow_inputs, variety_inputs])\n",
        "\n",
        "hidden1 = Dense(256, activation='relu')(merged_layer)\n",
        "output = Dense(1)(hidden1)\n",
        "\n",
        "wide_model = Model(inputs=[bow_inputs, variety_inputs], outputs=output)"
      ],
      "execution_count": 0,
      "outputs": []
    },
    {
      "metadata": {
        "id": "AmN0poYGu-5E",
        "colab_type": "code",
        "colab": {}
      },
      "cell_type": "code",
      "source": [
        "wide_model.summary()"
      ],
      "execution_count": 0,
      "outputs": []
    },
    {
      "metadata": {
        "id": "NzcwtAgQwKP-",
        "colab_type": "code",
        "colab": {}
      },
      "cell_type": "code",
      "source": [
        "wide_model.compile(loss='mse', \n",
        "                   optimizer='adam', \n",
        "                   metrics=['accuracy'])"
      ],
      "execution_count": 0,
      "outputs": []
    },
    {
      "metadata": {
        "id": "62E7TXEBDGpi",
        "colab_type": "text"
      },
      "cell_type": "markdown",
      "source": [
        "## 2. Deep Model"
      ]
    },
    {
      "metadata": {
        "id": "XP8VU0B9C7-5",
        "colab_type": "code",
        "colab": {}
      },
      "cell_type": "code",
      "source": [
        "train_embed = tokenize.texts_to_sequences(description_train)"
      ],
      "execution_count": 0,
      "outputs": []
    },
    {
      "metadata": {
        "id": "3HJThMcbDPI1",
        "colab_type": "code",
        "colab": {}
      },
      "cell_type": "code",
      "source": [
        "max_seq_length = 170\n",
        "train_embed = pad_sequences(train_embed, maxlen=max_seq_length)"
      ],
      "execution_count": 0,
      "outputs": []
    },
    {
      "metadata": {
        "id": "QBVUc7Q1DTDL",
        "colab_type": "code",
        "colab": {}
      },
      "cell_type": "code",
      "source": [
        "deep_inputs = Input(shape=(max_seq_length,))\n",
        "\n",
        "embedding = Embedding(vocab_size, 8, input_length=max_seq_length)(deep_inputs)\n",
        "embedding = Flatten()(embedding)\n",
        "\n",
        "\n",
        "embed_out = Dense(1, activation='linear')(embedding)\n",
        "\n",
        "deep_model = Model(inputs=deep_inputs, outputs=embed_out)"
      ],
      "execution_count": 0,
      "outputs": []
    },
    {
      "metadata": {
        "id": "9vUsY_CJD2fc",
        "colab_type": "code",
        "colab": {}
      },
      "cell_type": "code",
      "source": [
        "deep_model.summary()"
      ],
      "execution_count": 0,
      "outputs": []
    },
    {
      "metadata": {
        "id": "dtvhqVaPFQ7p",
        "colab_type": "code",
        "colab": {}
      },
      "cell_type": "code",
      "source": [
        "deep_model.compile(loss='mse', \n",
        "                   optimizer='adam', \n",
        "                   metrics=['accuracy'])"
      ],
      "execution_count": 0,
      "outputs": []
    },
    {
      "metadata": {
        "id": "sWW1tNTzNAKU",
        "colab_type": "text"
      },
      "cell_type": "markdown",
      "source": [
        "## 3. Putting the deep and wide model together"
      ]
    },
    {
      "metadata": {
        "id": "v_-w39y5FViF",
        "colab_type": "code",
        "colab": {}
      },
      "cell_type": "code",
      "source": [
        "merged_out = Concatenate()([wide_model.output, deep_model.output])\n",
        "\n",
        "final_output = Dense(1)(merged_out)\n",
        "\n",
        "combined_model = Model(wide_model.input + [deep_model.input], final_output)"
      ],
      "execution_count": 0,
      "outputs": []
    },
    {
      "metadata": {
        "id": "0oe2CEvJF_2L",
        "colab_type": "code",
        "colab": {}
      },
      "cell_type": "code",
      "source": [
        "combined_model.summary()"
      ],
      "execution_count": 0,
      "outputs": []
    },
    {
      "metadata": {
        "id": "pCh3OaT8GBjQ",
        "colab_type": "code",
        "colab": {}
      },
      "cell_type": "code",
      "source": [
        "plot_model(combined_model, to_file='wide-deep-wine-model.png')"
      ],
      "execution_count": 0,
      "outputs": []
    },
    {
      "metadata": {
        "id": "EPmn8Nc2GKw8",
        "colab_type": "code",
        "colab": {}
      },
      "cell_type": "code",
      "source": [
        "combined_model.compile(loss='mse',\n",
        "                       optimizer='adam')"
      ],
      "execution_count": 0,
      "outputs": []
    },
    {
      "metadata": {
        "id": "fdnrAcKZGq9W",
        "colab_type": "code",
        "colab": {}
      },
      "cell_type": "code",
      "source": [
        "combined_model.fit([description_bow_train, variety_train] + [train_embed], \n",
        "                   labels_train, \n",
        "                   epochs=2, \n",
        "                   batch_size=128)"
      ],
      "execution_count": 0,
      "outputs": []
    },
    {
      "metadata": {
        "id": "eURFheDBK0Qn",
        "colab_type": "code",
        "colab": {}
      },
      "cell_type": "code",
      "source": [
        ""
      ],
      "execution_count": 0,
      "outputs": []
    }
  ]
}