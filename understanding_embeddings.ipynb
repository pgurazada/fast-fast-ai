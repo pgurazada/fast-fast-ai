{
  "nbformat": 4,
  "nbformat_minor": 0,
  "metadata": {
    "colab": {
      "name": "understanding-embeddings.ipynb",
      "version": "0.3.2",
      "provenance": [],
      "private_outputs": true,
      "collapsed_sections": [],
      "include_colab_link": true
    },
    "kernelspec": {
      "name": "python3",
      "display_name": "Python 3"
    },
    "accelerator": "GPU"
  },
  "cells": [
    {
      "cell_type": "markdown",
      "metadata": {
        "id": "view-in-github",
        "colab_type": "text"
      },
      "source": [
        "<a href=\"https://colab.research.google.com/github/pgurazada/fast-fast-ai/blob/master/understanding_embeddings.ipynb\" target=\"_parent\"><img src=\"https://colab.research.google.com/assets/colab-badge.svg\" alt=\"Open In Colab\"/></a>"
      ]
    },
    {
      "metadata": {
        "id": "wbiAnbfqFZc1",
        "colab_type": "code",
        "colab": {}
      },
      "cell_type": "code",
      "source": [
        "from google.colab import drive"
      ],
      "execution_count": 0,
      "outputs": []
    },
    {
      "metadata": {
        "id": "p1824DIoFjuU",
        "colab_type": "code",
        "colab": {}
      },
      "cell_type": "code",
      "source": [
        "drive.mount('/content/gdrive', force_remount=True)"
      ],
      "execution_count": 0,
      "outputs": []
    },
    {
      "metadata": {
        "id": "KNVrkpkDFocZ",
        "colab_type": "code",
        "colab": {}
      },
      "cell_type": "code",
      "source": [
        "import numpy as np\n",
        "import pandas as pd\n",
        "import os\n",
        "\n",
        "\n",
        "from keras.models import Sequential,Model\n",
        "from keras.layers import Dense, Dropout, Activation, Flatten\n",
        "from keras.layers import Embedding\n",
        "from keras.layers import LSTM,Bidirectional\n",
        "from keras.layers import SimpleRNN\n",
        "from keras.layers import GRU\n",
        "from keras.layers import Convolution1D, MaxPooling1D\n",
        "from keras.engine import Input\n",
        "from keras.optimizers import SGD\n",
        "from keras.preprocessing import text,sequence\n",
        "\n",
        "from gensim.models.word2vec import Word2Vec"
      ],
      "execution_count": 0,
      "outputs": []
    },
    {
      "metadata": {
        "id": "uIr9X-apFzm8",
        "colab_type": "code",
        "colab": {}
      },
      "cell_type": "code",
      "source": [
        "# Input parameters\n",
        "max_features = 5000\n",
        "max_len = 200\n",
        "embedding_size = 300\n",
        "\n",
        "# Convolution parameters\n",
        "filter_length = 3\n",
        "nb_filter = 150\n",
        "pool_length = 2\n",
        "cnn_activation = 'relu'\n",
        "border_mode = 'same'\n",
        "\n",
        "# RNN parameters\n",
        "output_size = 50\n",
        "rnn_activation = 'tanh'\n",
        "recurrent_activation = 'hard_sigmoid'\n",
        "\n",
        "# Compile parameters\n",
        "loss = 'binary_crossentropy'\n",
        "optimizer = 'rmsprop'\n",
        "\n",
        "# Training parameters\n",
        "batch_size = 50\n",
        "nb_epoch = 3\n",
        "validation_split = 0.25\n",
        "shuffle = True"
      ],
      "execution_count": 0,
      "outputs": []
    },
    {
      "metadata": {
        "id": "ZXqYn24-F9GZ",
        "colab_type": "code",
        "colab": {}
      },
      "cell_type": "code",
      "source": [
        "data = pd.read_csv('/content/gdrive/My Drive/data-for-experimentation/amazon-reviews-corpus.csv')"
      ],
      "execution_count": 0,
      "outputs": []
    },
    {
      "metadata": {
        "id": "3cFjUV6IGS5e",
        "colab_type": "code",
        "colab": {}
      },
      "cell_type": "code",
      "source": [
        "data.head()"
      ],
      "execution_count": 0,
      "outputs": []
    },
    {
      "metadata": {
        "id": "AHnqHg3DGVDY",
        "colab_type": "code",
        "colab": {}
      },
      "cell_type": "code",
      "source": [
        "x = data['text'].apply(str).values"
      ],
      "execution_count": 0,
      "outputs": []
    },
    {
      "metadata": {
        "id": "bGpEEU48HufM",
        "colab_type": "code",
        "colab": {}
      },
      "cell_type": "code",
      "source": [
        "y = data['label'].values"
      ],
      "execution_count": 0,
      "outputs": []
    },
    {
      "metadata": {
        "id": "vP-qzM39Hvf5",
        "colab_type": "code",
        "colab": {}
      },
      "cell_type": "code",
      "source": [
        "tk = text.Tokenizer(num_words=max_features, filters=100, lower=True, split=\" \")\n",
        "tk.fit_on_texts(x)\n",
        "\n",
        "x = tk.texts_to_sequences(x)\n",
        "\n",
        "word_index = tk.word_index\n",
        "\n",
        "x = sequence.pad_sequences(x,maxlen=max_len)"
      ],
      "execution_count": 0,
      "outputs": []
    },
    {
      "metadata": {
        "id": "skXr682OH8Cv",
        "colab_type": "code",
        "colab": {}
      },
      "cell_type": "code",
      "source": [
        ""
      ],
      "execution_count": 0,
      "outputs": []
    }
  ]
}